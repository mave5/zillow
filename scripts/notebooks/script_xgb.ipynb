{
 "cells": [
  {
   "cell_type": "markdown",
   "metadata": {},
   "source": [
    "## XGboost on train_v2"
   ]
  },
  {
   "cell_type": "code",
   "execution_count": 17,
   "metadata": {
    "collapsed": false
   },
   "outputs": [],
   "source": [
    "import numpy as np\n",
    "import pandas as pd\n",
    "import xgboost as xgb\n",
    "from sklearn.preprocessing import LabelEncoder\n",
    "import os\n",
    "from sklearn.metrics import mean_absolute_error as mae\n",
    "#%%"
   ]
  },
  {
   "cell_type": "markdown",
   "metadata": {},
   "source": [
    "## settings"
   ]
  },
  {
   "cell_type": "code",
   "execution_count": 4,
   "metadata": {
    "collapsed": true
   },
   "outputs": [],
   "source": [
    "path2traindata='../../data/train_2016_v2.csv'\n",
    "path2property='../../data/properties_2016.csv'\n",
    "path2sample='../../data/sample_submission.csv'\n",
    "path2submission='./output/submissions/'"
   ]
  },
  {
   "cell_type": "markdown",
   "metadata": {},
   "source": [
    "### loading data"
   ]
  },
  {
   "cell_type": "code",
   "execution_count": 5,
   "metadata": {
    "collapsed": false
   },
   "outputs": [
    {
     "name": "stderr",
     "output_type": "stream",
     "text": [
      "/home/mra/anaconda2/lib/python2.7/site-packages/IPython/core/interactiveshell.py:2723: DtypeWarning: Columns (22,32,34,49,55) have mixed types. Specify dtype option on import or set low_memory=False.\n",
      "  interactivity=interactivity, compiler=compiler, result=result)\n"
     ]
    },
    {
     "name": "stdout",
     "output_type": "stream",
     "text": [
      "Shape train: (90275, 57)\n",
      "Shape test: (2985217, 57)\n",
      "After removing outliers:\n",
      "Shape train: (88431, 57)\n",
      "Shape test: (2985217, 57)\n"
     ]
    }
   ],
   "source": [
    "# loading data\n",
    "train = pd.read_csv(path2traindata)\n",
    "properties = pd.read_csv(path2property)\n",
    "\n",
    "for c in properties.columns:\n",
    "    properties[c]=properties[c].fillna(-1)\n",
    "    if properties[c].dtype == 'object':\n",
    "        lbl = LabelEncoder()\n",
    "        lbl.fit(list(properties[c].values))\n",
    "        properties[c] = lbl.transform(list(properties[c].values))\n",
    "\n",
    "train_df = train.merge(properties, how='left', on='parcelid')\n",
    "x_train = train_df.drop(['parcelid', 'logerror','transactiondate'], axis=1)\n",
    "x_test = properties.drop(['parcelid'], axis=1)\n",
    "\n",
    "# shape        \n",
    "print('Shape train: {}\\nShape test: {}'.format(x_train.shape, x_test.shape))\n",
    "\n",
    "# drop out ouliers\n",
    "train_df=train_df[ train_df.logerror > -0.4 ]\n",
    "train_df=train_df[ train_df.logerror < 0.4 ]\n",
    "x_train=train_df.drop(['parcelid', 'logerror','transactiondate'], axis=1)\n",
    "y_train = train_df[\"logerror\"].values.astype(np.float32)\n",
    "y_mean = np.mean(y_train)\n",
    "\n",
    "print('After removing outliers:')     \n",
    "print('Shape train: {}\\nShape test: {}'.format(x_train.shape, x_test.shape))"
   ]
  },
  {
   "cell_type": "code",
   "execution_count": 21,
   "metadata": {
    "collapsed": false
   },
   "outputs": [
    {
     "name": "stdout",
     "output_type": "stream",
     "text": [
      "[0]\ttrain-mae:0.0528301\ttest-mae:0.0528421\n",
      "[10]\ttrain-mae:0.0523636\ttest-mae:0.0525028\n",
      "[20]\ttrain-mae:0.0521413\ttest-mae:0.0524008\n",
      "[30]\ttrain-mae:0.0519888\ttest-mae:0.0523475\n",
      "[40]\ttrain-mae:0.051875\ttest-mae:0.0523225\n",
      "[50]\ttrain-mae:0.0517748\ttest-mae:0.0523078\n",
      "[60]\ttrain-mae:0.0516861\ttest-mae:0.0522989\n",
      "[70]\ttrain-mae:0.0516016\ttest-mae:0.0522955\n",
      "[80]\ttrain-mae:0.0515201\ttest-mae:0.0522864\n",
      "[90]\ttrain-mae:0.0514431\ttest-mae:0.0522829\n",
      "[100]\ttrain-mae:0.0513677\ttest-mae:0.0522738\n",
      "[110]\ttrain-mae:0.051295\ttest-mae:0.0522689\n",
      "[120]\ttrain-mae:0.0512256\ttest-mae:0.0522631\n",
      "[130]\ttrain-mae:0.0511574\ttest-mae:0.0522607\n",
      "[140]\ttrain-mae:0.0510898\ttest-mae:0.052262\n",
      "[150]\ttrain-mae:0.0510218\ttest-mae:0.0522572\n",
      "[160]\ttrain-mae:0.0509556\ttest-mae:0.0522538\n",
      "[170]\ttrain-mae:0.0508904\ttest-mae:0.0522557\n",
      "[180]\ttrain-mae:0.0508261\ttest-mae:0.0522573\n",
      "[190]\ttrain-mae:0.0507634\ttest-mae:0.0522574\n",
      "200\n"
     ]
    }
   ],
   "source": [
    "#%%\n",
    "# xgboost params\n",
    "xgb_params = {\n",
    "    'eta': 0.07,\n",
    "    'max_depth': 5,\n",
    "    'subsample': 0.80,\n",
    "    'objective': 'reg:linear',\n",
    "    'eval_metric': 'mae',\n",
    "    'base_score': y_mean,\n",
    "    'silent': 1\n",
    "}\n",
    "\n",
    "\n",
    "dtrain = xgb.DMatrix(x_train, y_train)\n",
    "dtest = xgb.DMatrix(x_test)\n",
    "\n",
    "# cross-validation\n",
    "cv_result = xgb.cv(xgb_params, \n",
    "                   dtrain, \n",
    "                   nfold=50,\n",
    "                   num_boost_round=200,\n",
    "                   early_stopping_rounds=50,\n",
    "                   verbose_eval=10, \n",
    "                   show_stdv=False\n",
    "                  )\n",
    "num_boost_rounds = len(cv_result)\n",
    "print(num_boost_rounds)\n",
    "\n",
    "# train model\n",
    "model = xgb.train(dict(xgb_params, silent=1), dtrain, num_boost_round=num_boost_rounds)"
   ]
  },
  {
   "cell_type": "code",
   "execution_count": 22,
   "metadata": {
    "collapsed": false
   },
   "outputs": [
    {
     "name": "stdout",
     "output_type": "stream",
     "text": [
      "   ParcelId   201610   201611   201612   201710   201711   201712\n",
      "0  10754147  -0.0666  -0.0666  -0.0666  -0.0666  -0.0666  -0.0666\n",
      "1  10759547  -0.0201  -0.0201  -0.0201  -0.0201  -0.0201  -0.0201\n",
      "2  10843547  -0.0001  -0.0001  -0.0001  -0.0001  -0.0001  -0.0001\n",
      "3  10859147   0.1075   0.1075   0.1075   0.1075   0.1075   0.1075\n",
      "4  10879947   0.0494   0.0494   0.0494   0.0494   0.0494   0.0494\n"
     ]
    }
   ],
   "source": [
    "#%%\n",
    "pred = model.predict(dtest)\n",
    "y_pred=[]\n",
    "\n",
    "for i,predict in enumerate(pred):\n",
    "    y_pred.append(str(round(predict,4)))\n",
    "y_pred=np.array(y_pred)\n",
    "\n",
    "output = pd.DataFrame({'ParcelId': properties['parcelid'].astype(np.int32),\n",
    "        '201610': y_pred, '201611': y_pred, '201612': y_pred,\n",
    "        '201710': y_pred, '201711': y_pred, '201712': y_pred})\n",
    "# set col 'ParceID' to first col\n",
    "cols = output.columns.tolist()\n",
    "cols = cols[-1:] + cols[:-1]\n",
    "output = output[cols]\n",
    "\n",
    "#from datetime import datetime\n",
    "#output.to_csv('sub{}.csv'.format(datetime.now().strftime('%Y%m%d_%H%M%S')), index=False)\n",
    "\n",
    "#%% create sumission\n",
    "\n",
    "#sub.to_csv('lgb_starter.csv', index=False, float_format='%.4f')\n",
    "import datetime\n",
    "now = datetime.datetime.now()\n",
    "info='xgb_'\n",
    "suffix = info + '_' + str(now.strftime(\"%Y-%m-%d-%H-%M\"))\n",
    "sub_file = os.path.join(path2submission, 'submission_' + suffix + '.csv')\n",
    "\n",
    "output.to_csv(sub_file, index=False, float_format='%.4f')\n",
    "print(output.head())    "
   ]
  }
 ],
 "metadata": {
  "kernelspec": {
   "display_name": "Python 2",
   "language": "python",
   "name": "python2"
  },
  "language_info": {
   "codemirror_mode": {
    "name": "ipython",
    "version": 2
   },
   "file_extension": ".py",
   "mimetype": "text/x-python",
   "name": "python",
   "nbconvert_exporter": "python",
   "pygments_lexer": "ipython2",
   "version": "2.7.11"
  }
 },
 "nbformat": 4,
 "nbformat_minor": 0
}
